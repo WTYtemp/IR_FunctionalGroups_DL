{
 "cells": [
  {
   "cell_type": "code",
   "execution_count": 1,
   "metadata": {},
   "outputs": [],
   "source": [
    "from rdkit import Chem\n",
    "# from rdkit.Chem import Draw\n",
    "import pandas as pd"
   ]
  },
  {
   "cell_type": "code",
   "execution_count": 2,
   "metadata": {},
   "outputs": [],
   "source": [
    "# func_grp_smarts = {'alkane':'[CX4;H0,H1,H2,H4]','methyl':'[CH3]','alkene':'[CX3]=[CX3]','alkyne':'[CX2]#C',\n",
    "#                    'alcohols':'[#6][OX2H]','amines':'[NX3;H2,H1;!$(NC=O)]', 'nitriles':'[NX1]#[CX2]', \n",
    "#                    'aromatics':'[$([cX3](:*):*),$([cX2+](:*):*)]','alkyl halides':'[#6][F,Cl,Br,I]', \n",
    "#                    'esters':'[#6][CX3](=O)[OX2H0][#6]', 'ketones':'[#6][CX3](=O)[#6]','aldehydes':'[CX3H1](=O)[#6]', \n",
    "#                    'carboxylic acids':'[CX3](=O)[OX2H1]', 'ether': '[OD2]([#6])[#6]','acyl halides':'[CX3](=[OX1])[F,Cl,Br,I]',\n",
    "#                    'amides':'[NX3][CX3](=[OX1])[#6]','nitro':'[$([NX3](=O)=O),$([NX3+](=O)[O-])][!#8]'}"
   ]
  },
  {
   "cell_type": "code",
   "execution_count": 2,
   "metadata": {},
   "outputs": [
    {
     "data": {
      "text/plain": [
       "{'alkane': '[CX4]',\n",
       " '-CH-': '[CX4;H1]',\n",
       " '-CH2-': '[CX4;H2]',\n",
       " '-CH3': '[CX4;H3]',\n",
       " '-CH(CH3)2': '[CX4;H1]([CH3])[CH3]',\n",
       " '-C(CH3)3': '[CX4;H0]([CH3])([CH3])[CH3]',\n",
       " 'alkene': '[CX3]=[CX3]',\n",
       " '-CH=CH2': '[CX3;H1]=[CH2]',\n",
       " '-CH=CH-': '[CX3;H1]=[CX3;H1]',\n",
       " '-C=CH2': '[CX3;H0]=[CH2]',\n",
       " '-C=CH-': '[CX3;H0]=[CX3;H1]',\n",
       " '-C=C-': '[CX3;H0]=[CX3;H0]',\n",
       " '-CH=C=CH2': '[CX3;H1]=[C]=[CH2]',\n",
       " 'alkyne': '[CX2]#C',\n",
       " 'aromatics': '[$([cX3](:*):*),$([cX2+](:*):*)]',\n",
       " 'alkyl halides': '[#6][F,Cl,Br,I]',\n",
       " 'alcohols': '[#6][OX2H]',\n",
       " 'primary alcohols': '[#6][#6X4;H2][OX2H]',\n",
       " 'secondary alcohols': '[#6][#6X4;H1]([#6])[OX2H]',\n",
       " 'tertiary alcohols': '[#6][#6X4;H0]([#6])([#6])[OX2H]',\n",
       " 'phenol': '[OX2H][cX3]:[c]',\n",
       " 'esters': '[#6][CX3](=O)[OX2H0][#6]',\n",
       " 'ketones': '[#6][CX3](=O)[#6]',\n",
       " 'aldehydes': '[CX3H1](=O)[#6]',\n",
       " 'carboxylic acids': '[CX3](=O)[OX2H1]',\n",
       " 'ether': '[OX2;!$(OC=O)]([#6])[#6]',\n",
       " 'acyl halides': '[CX3](=[OX1])[F,Cl,Br,I]',\n",
       " 'amines': '[NX3;!$(NC=O)]',\n",
       " 'primary amines': '[NX3;H2;!$(NC=O)]',\n",
       " 'secondary amines': '[NX3;H1;!$(NC=O)]',\n",
       " 'tertiary amines': '[NX3;H0;!$(NC=O)]',\n",
       " 'amides': '[NX3][CX3](=[OX1])[#6]',\n",
       " 'primary amides': '[NX3;H2][CX3](=[OX1])[#6]',\n",
       " 'secondary amides': '[NX3;H1][CX3](=[OX1])[#6]',\n",
       " 'tertiary amides': '[NX3;H0][CX3](=[OX1])[#6]',\n",
       " 'nitriles': '[NX1]#[CX2]',\n",
       " 'nitro': '[$([NX3](=O)=O),$([NX3+](=O)[O-])][!#8]',\n",
       " '-N=C=O': '[#7]=[C]=[O]',\n",
       " '-N=C=S': '[#7]=[C]=[S]',\n",
       " 'ortho': '*-!:aa-!:*',\n",
       " 'meta': '*-!:aaa-!:*',\n",
       " 'para': '*-!:aaaa-!:*'}"
      ]
     },
     "execution_count": 2,
     "metadata": {},
     "output_type": "execute_result"
    }
   ],
   "source": [
    "#'primary amine': '[NX3;H2;!$(NC=O)]', 'secondary amine': '[NX3;H1;!$(NC=O)]', 'tertiary amine': '[NX3;H0;!$(NC=O)]'\n",
    "#'ortho': '*-!:aa-!:*', 'meta': '*-!:aaa-!:*', 'para': '*-!:aaaa-!:*'\n",
    "# func_grp_smarts = {'primary amine': '[NX3;H2;!$(NC=O)]', 'secondary amine': '[NX3;H1;!$(NC=O)]', 'tertiary amine': '[NX3;H0;!$(NC=O)]'}\n",
    "func_grp_list = pd.read_csv('./dataset/functionalGroupList.csv')\n",
    "func_grp_smarts = {item['name']: item['smarts'] for idx, item in func_grp_list.iterrows()}\n",
    "func_grp_smarts"
   ]
  },
  {
   "cell_type": "code",
   "execution_count": 3,
   "metadata": {},
   "outputs": [
    {
     "data": {
      "text/plain": [
       "{'alkane': <rdkit.Chem.rdchem.Mol at 0x26bc1ca34e0>,\n",
       " '-CH-': <rdkit.Chem.rdchem.Mol at 0x26bc1ca35d0>,\n",
       " '-CH2-': <rdkit.Chem.rdchem.Mol at 0x26bc1ca3620>,\n",
       " '-CH3': <rdkit.Chem.rdchem.Mol at 0x26bc1ca3670>,\n",
       " '-CH(CH3)2': <rdkit.Chem.rdchem.Mol at 0x26bc1ca36c0>,\n",
       " '-C(CH3)3': <rdkit.Chem.rdchem.Mol at 0x26bc1ca3710>,\n",
       " 'alkene': <rdkit.Chem.rdchem.Mol at 0x26bc1ca3760>,\n",
       " '-CH=CH2': <rdkit.Chem.rdchem.Mol at 0x26bc1ca37b0>,\n",
       " '-CH=CH-': <rdkit.Chem.rdchem.Mol at 0x26bc1ca3800>,\n",
       " '-C=CH2': <rdkit.Chem.rdchem.Mol at 0x26bc1ca3850>,\n",
       " '-C=CH-': <rdkit.Chem.rdchem.Mol at 0x26bc1ca38a0>,\n",
       " '-C=C-': <rdkit.Chem.rdchem.Mol at 0x26bc1ca38f0>,\n",
       " '-CH=C=CH2': <rdkit.Chem.rdchem.Mol at 0x26bc1ca3940>,\n",
       " 'alkyne': <rdkit.Chem.rdchem.Mol at 0x26bc1ca3990>,\n",
       " 'aromatics': <rdkit.Chem.rdchem.Mol at 0x26bc1ca39e0>,\n",
       " 'alkyl halides': <rdkit.Chem.rdchem.Mol at 0x26bc1ca3a30>,\n",
       " 'alcohols': <rdkit.Chem.rdchem.Mol at 0x26bc1ca3a80>,\n",
       " 'primary alcohols': <rdkit.Chem.rdchem.Mol at 0x26bc1ca3ad0>,\n",
       " 'secondary alcohols': <rdkit.Chem.rdchem.Mol at 0x26bc1ca3b20>,\n",
       " 'tertiary alcohols': <rdkit.Chem.rdchem.Mol at 0x26bc1ca3b70>,\n",
       " 'phenol': <rdkit.Chem.rdchem.Mol at 0x26bc1ca3bc0>,\n",
       " 'esters': <rdkit.Chem.rdchem.Mol at 0x26bc1ca3c10>,\n",
       " 'ketones': <rdkit.Chem.rdchem.Mol at 0x26bc1ca3c60>,\n",
       " 'aldehydes': <rdkit.Chem.rdchem.Mol at 0x26bc1ca3cb0>,\n",
       " 'carboxylic acids': <rdkit.Chem.rdchem.Mol at 0x26bc1ca3d00>,\n",
       " 'ether': <rdkit.Chem.rdchem.Mol at 0x26bc1ca3d50>,\n",
       " 'acyl halides': <rdkit.Chem.rdchem.Mol at 0x26bc1ca3da0>,\n",
       " 'amines': <rdkit.Chem.rdchem.Mol at 0x26bc1ca3df0>,\n",
       " 'primary amines': <rdkit.Chem.rdchem.Mol at 0x26bc1ca3e40>,\n",
       " 'secondary amines': <rdkit.Chem.rdchem.Mol at 0x26bc1ca3e90>,\n",
       " 'tertiary amines': <rdkit.Chem.rdchem.Mol at 0x26bc1ca3ee0>,\n",
       " 'amides': <rdkit.Chem.rdchem.Mol at 0x26bc1ca3f30>,\n",
       " 'primary amides': <rdkit.Chem.rdchem.Mol at 0x26bc1ca3f80>,\n",
       " 'secondary amides': <rdkit.Chem.rdchem.Mol at 0x26bc1cb6030>,\n",
       " 'tertiary amides': <rdkit.Chem.rdchem.Mol at 0x26bc1cb6080>,\n",
       " 'nitriles': <rdkit.Chem.rdchem.Mol at 0x26bc1cb60d0>,\n",
       " 'nitro': <rdkit.Chem.rdchem.Mol at 0x26bc1cb6120>,\n",
       " '-N=C=O': <rdkit.Chem.rdchem.Mol at 0x26bc1cb6170>,\n",
       " '-N=C=S': <rdkit.Chem.rdchem.Mol at 0x26bc1cb61c0>,\n",
       " 'ortho': <rdkit.Chem.rdchem.Mol at 0x26bc1cb6210>,\n",
       " 'meta': <rdkit.Chem.rdchem.Mol at 0x26bc1cb6260>,\n",
       " 'para': <rdkit.Chem.rdchem.Mol at 0x26bc1cb62b0>}"
      ]
     },
     "execution_count": 3,
     "metadata": {},
     "output_type": "execute_result"
    }
   ],
   "source": [
    "func_grp_structs = {func_name : Chem.MolFromSmarts(func_smarts)\\\n",
    "                        for func_name, func_smarts in func_grp_smarts.items()}\n",
    "\n",
    "func_grp_structs"
   ]
  },
  {
   "cell_type": "code",
   "execution_count": 4,
   "metadata": {},
   "outputs": [],
   "source": [
    "inchi_path = './dataset/inchi.csv'\n",
    "\n",
    "inchi_df = pd.read_csv(inchi_path)"
   ]
  },
  {
   "cell_type": "code",
   "execution_count": 5,
   "metadata": {},
   "outputs": [],
   "source": [
    "group_path = './dataset/functionalGroupTag.csv'\n",
    "\n",
    "group_pd = pd.DataFrame(columns=['ID'] + list(func_grp_smarts.keys()))"
   ]
  },
  {
   "cell_type": "code",
   "execution_count": null,
   "metadata": {
    "scrolled": true
   },
   "outputs": [],
   "source": [
    "i = 0\n",
    "mol_none = []\n",
    "\n",
    "for idx, item in inchi_df.iterrows():\n",
    "    ID = item['ID']\n",
    "    inchi = item['InChi']\n",
    "    mol = Chem.MolFromInchi(inchi)\n",
    "    \n",
    "    if mol == None:\n",
    "        mol_none.append(ID)\n",
    "        continue\n",
    "\n",
    "    \n",
    "    mol_func_grps = []\n",
    "\n",
    "    for _, func_struct in func_grp_structs.items():\n",
    "        struct_matches = mol.GetSubstructMatches(func_struct)\n",
    "        contains_func_grp = int(len(struct_matches)>0)\n",
    "        mol_func_grps.append(contains_func_grp)\n",
    "    \n",
    "    row = [ID] + mol_func_grps\n",
    "    \n",
    "    group_pd.loc[i] = row\n",
    "    i += 1\n",
    "    # print(i)"
   ]
  },
  {
   "cell_type": "code",
   "execution_count": 7,
   "metadata": {},
   "outputs": [
    {
     "data": {
      "text/plain": [
       "227"
      ]
     },
     "execution_count": 7,
     "metadata": {},
     "output_type": "execute_result"
    }
   ],
   "source": [
    "group_pd.to_csv(group_path, index=False)"
   ]
  },
  {
   "cell_type": "code",
   "execution_count": 8,
   "metadata": {},
   "outputs": [
    {
     "data": {
      "text/plain": [
       "['C4368518']"
      ]
     },
     "execution_count": 8,
     "metadata": {},
     "output_type": "execute_result"
    }
   ],
   "source": [
    "mol_none  # C4368518 无法识别结构"
   ]
  },
  {
   "cell_type": "code",
   "execution_count": 9,
   "metadata": {},
   "outputs": [],
   "source": [
    "# 合并两个csv\n",
    "\n",
    "data_path = './dataset/normData_1647.csv'\n",
    "ab = pd.read_csv(data_path)\n",
    "\n",
    "group_path = './dataset/functionalGroupTag.csv'\n",
    "group = pd.read_csv(group_path)"
   ]
  },
  {
   "cell_type": "code",
   "execution_count": 10,
   "metadata": {},
   "outputs": [],
   "source": [
    "merge_pd = pd.merge(ab, group, on='ID')"
   ]
  },
  {
   "cell_type": "code",
   "execution_count": null,
   "metadata": {},
   "outputs": [],
   "source": [
    "print(len(merge_pd))\n",
    "merge_pd.loc[:3]"
   ]
  },
  {
   "cell_type": "code",
   "execution_count": 14,
   "metadata": {},
   "outputs": [],
   "source": [
    "merge_pd.to_csv('./dataset/dataset_1647_all.csv', index=False)"
   ]
  }
 ],
 "metadata": {
  "kernelspec": {
   "display_name": "Python 3",
   "language": "python",
   "name": "python3"
  },
  "language_info": {
   "codemirror_mode": {
    "name": "ipython",
    "version": 3
   },
   "file_extension": ".py",
   "mimetype": "text/x-python",
   "name": "python",
   "nbconvert_exporter": "python",
   "pygments_lexer": "ipython3",
   "version": "3.6.5"
  },
  "vscode": {
   "interpreter": {
    "hash": "f8b40d688a12481f01eadf7380c47edd8a49484a47dba3db091451640e880c68"
   }
  }
 },
 "nbformat": 4,
 "nbformat_minor": 2
}
