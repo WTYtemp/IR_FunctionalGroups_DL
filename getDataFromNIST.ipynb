{
 "cells": [
  {
   "cell_type": "markdown",
   "metadata": {},
   "source": [
    "### 1. Download Infrared Spectra"
   ]
  },
  {
   "cell_type": "code",
   "execution_count": 1,
   "metadata": {},
   "outputs": [
    {
     "data": {
      "text/html": [
       "<div>\n",
       "<style scoped>\n",
       "    .dataframe tbody tr th:only-of-type {\n",
       "        vertical-align: middle;\n",
       "    }\n",
       "\n",
       "    .dataframe tbody tr th {\n",
       "        vertical-align: top;\n",
       "    }\n",
       "\n",
       "    .dataframe thead th {\n",
       "        text-align: right;\n",
       "    }\n",
       "</style>\n",
       "<table border=\"1\" class=\"dataframe\">\n",
       "  <thead>\n",
       "    <tr style=\"text-align: right;\">\n",
       "      <th></th>\n",
       "      <th>ID</th>\n",
       "      <th>name</th>\n",
       "      <th>formula</th>\n",
       "      <th>mol_weight</th>\n",
       "      <th>inchi</th>\n",
       "      <th>inchi_key</th>\n",
       "      <th>cas_rn</th>\n",
       "    </tr>\n",
       "  </thead>\n",
       "  <tbody>\n",
       "    <tr>\n",
       "      <th>0</th>\n",
       "      <td>B100</td>\n",
       "      <td>iron oxide anion</td>\n",
       "      <td>FeO-</td>\n",
       "      <td>71.8450</td>\n",
       "      <td>&lt;NA&gt;</td>\n",
       "      <td>&lt;NA&gt;</td>\n",
       "      <td>&lt;NA&gt;</td>\n",
       "    </tr>\n",
       "    <tr>\n",
       "      <th>1</th>\n",
       "      <td>B1000</td>\n",
       "      <td>AsF3..Cl anion</td>\n",
       "      <td>AsClF3-</td>\n",
       "      <td>167.3700</td>\n",
       "      <td>&lt;NA&gt;</td>\n",
       "      <td>&lt;NA&gt;</td>\n",
       "      <td>&lt;NA&gt;</td>\n",
       "    </tr>\n",
       "    <tr>\n",
       "      <th>2</th>\n",
       "      <td>B1000000</td>\n",
       "      <td>AgH2-</td>\n",
       "      <td>AgH2-</td>\n",
       "      <td>109.8846</td>\n",
       "      <td>&lt;NA&gt;</td>\n",
       "      <td>&lt;NA&gt;</td>\n",
       "      <td>&lt;NA&gt;</td>\n",
       "    </tr>\n",
       "    <tr>\n",
       "      <th>3</th>\n",
       "      <td>B1000001</td>\n",
       "      <td>HAg(H2)</td>\n",
       "      <td>AgH3</td>\n",
       "      <td>110.8920</td>\n",
       "      <td>&lt;NA&gt;</td>\n",
       "      <td>&lt;NA&gt;</td>\n",
       "      <td>&lt;NA&gt;</td>\n",
       "    </tr>\n",
       "    <tr>\n",
       "      <th>4</th>\n",
       "      <td>B1000002</td>\n",
       "      <td>AgNO+</td>\n",
       "      <td>AgNO+</td>\n",
       "      <td>137.8738</td>\n",
       "      <td>&lt;NA&gt;</td>\n",
       "      <td>&lt;NA&gt;</td>\n",
       "      <td>&lt;NA&gt;</td>\n",
       "    </tr>\n",
       "    <tr>\n",
       "      <th>5</th>\n",
       "      <td>B1000003</td>\n",
       "      <td>AgNO</td>\n",
       "      <td>AgNO</td>\n",
       "      <td>137.8743</td>\n",
       "      <td>&lt;NA&gt;</td>\n",
       "      <td>&lt;NA&gt;</td>\n",
       "      <td>&lt;NA&gt;</td>\n",
       "    </tr>\n",
       "  </tbody>\n",
       "</table>\n",
       "</div>"
      ],
      "text/plain": [
       "         ID              name  formula  mol_weight inchi inchi_key cas_rn\n",
       "0      B100  iron oxide anion     FeO-     71.8450  <NA>      <NA>   <NA>\n",
       "1     B1000    AsF3..Cl anion  AsClF3-    167.3700  <NA>      <NA>   <NA>\n",
       "2  B1000000             AgH2-    AgH2-    109.8846  <NA>      <NA>   <NA>\n",
       "3  B1000001           HAg(H2)     AgH3    110.8920  <NA>      <NA>   <NA>\n",
       "4  B1000002             AgNO+    AgNO+    137.8738  <NA>      <NA>   <NA>\n",
       "5  B1000003              AgNO     AgNO    137.8743  <NA>      <NA>   <NA>"
      ]
     },
     "execution_count": 1,
     "metadata": {},
     "output_type": "execute_result"
    }
   ],
   "source": [
    "import os\n",
    "import nistchempy as nist\n",
    "df = nist.get_all_data()\n",
    "df.loc[:5, df.columns[:7]]"
   ]
  },
  {
   "cell_type": "code",
   "execution_count": 2,
   "metadata": {},
   "outputs": [
    {
     "data": {
      "text/plain": [
       "'InChI=1S/C14H10/c1-3-7-13-11(5-1)9-10-12-6-2-4-8-14(12)13/h1-10H'"
      ]
     },
     "execution_count": 2,
     "metadata": {},
     "output_type": "execute_result"
    }
   ],
   "source": [
    "X = nist.Compound('C85018')\n",
    "X.inchi"
   ]
  },
  {
   "cell_type": "code",
   "execution_count": 2,
   "metadata": {},
   "outputs": [
    {
     "name": "stdout",
     "output_type": "stream",
     "text": [
      "15891\n"
     ]
    }
   ],
   "source": [
    "IDs = df.ID[~df.inchi.isna() & df.cIR]\n",
    "print(len(IDs))"
   ]
  },
  {
   "cell_type": "code",
   "execution_count": 1,
   "metadata": {
    "scrolled": true
   },
   "outputs": [],
   "source": [
    "# 下载NIST上全部的红外光谱\n",
    "if not os.path.exists('./IR'):\n",
    "    os.makedirs('./IR')\n",
    "\n",
    "for ID in IDs:\n",
    "    com = nist.Compound(ID)\n",
    "    com.get_ir_spectra()\n",
    "    print(com.IR)\n",
    "    com.save_ir_spectra('./IR')"
   ]
  },
  {
   "cell_type": "markdown",
   "metadata": {},
   "source": [
    "### 2. Filter Out the IR Spectra"
   ]
  },
  {
   "cell_type": "markdown",
   "metadata": {},
   "source": [
    "#### 2.1. Find Out the Empty Spectral Files"
   ]
  },
  {
   "cell_type": "code",
   "execution_count": null,
   "metadata": {},
   "outputs": [
    {
     "name": "stdout",
     "output_type": "stream",
     "text": [
      "9494\n"
     ]
    }
   ],
   "source": [
    "PATH = './IR'\n",
    "# 遍历一级文件目录\n",
    "files = os.listdir(PATH)\n",
    "print(len(files))"
   ]
  },
  {
   "cell_type": "code",
   "execution_count": null,
   "metadata": {},
   "outputs": [],
   "source": [
    "# 部分光谱文件中不包含数据点，找出这些文件\n",
    "empty = []\n",
    "\n",
    "for file in files:\n",
    "    with open(os.path.join(PATH, file), 'r') as f:\n",
    "        while True:\n",
    "            line = f.readline()\n",
    "            if line == '':\n",
    "                break\n",
    "            \n",
    "            if line[:10] == '##NPOINTS=': \n",
    "                if line[10] == '0':  # 找出没有数据的文件\n",
    "                    empty.append(file)\n",
    "                break"
   ]
  },
  {
   "cell_type": "code",
   "execution_count": null,
   "metadata": {},
   "outputs": [],
   "source": [
    "# 将没有数据的文件以'0_'开头命名，确认无误后手动删除\n",
    "print(len(empty))\n",
    "for file in empty:\n",
    "    print(file)\n",
    "    os.rename(os.path.join(PATH, file), os.path.join(PATH, '0_' + file))"
   ]
  },
  {
   "cell_type": "markdown",
   "metadata": {},
   "source": [
    "#### 2.2. Distinguish the Sampling State of the IR spectra"
   ]
  },
  {
   "cell_type": "code",
   "execution_count": null,
   "metadata": {},
   "outputs": [],
   "source": [
    "state = {'GAS':0, 'VAPOR':0, 'SOLID':0, 'LIQUID':0, 'SOLUTION':0}\n",
    "\n",
    "gas = []\n",
    "vapor = []\n",
    "solid = []\n",
    "liquid = []\n",
    "solution = []\n",
    "\n",
    "for file in files:\n",
    "    with open(os.path.join(PATH, file), 'r') as f:\n",
    "        while True:\n",
    "            line = f.readline()\n",
    "            if line == '':\n",
    "                break\n",
    "            \n",
    "            if line[:8] == '##STATE=': \n",
    "                if line[8:11] == 'GAS' or line[8:11] == 'gas':\n",
    "                    state['GAS'] += 1\n",
    "                    gas.append(file)\n",
    "                elif line[8:13] == 'VAPOR' or line[8:13] == 'vapor':\n",
    "                    state['VAPOR'] += 1\n",
    "                    vapor.append(file)\n",
    "                elif line[8:13] == 'SOLID' or line[8:13] == 'solid':\n",
    "                    state['SOLID'] += 1\n",
    "                    solid.append(file)\n",
    "                elif line[8:14] == 'LIQUID' or line[8:14] == 'liquid':\n",
    "                    state['LIQUID'] += 1\n",
    "                    liquid.append(file)\n",
    "                elif line[8:16] == 'SOLUTION' or line[8:16] == 'solution':\n",
    "                    state['SOLUTION'] += 1\n",
    "                    solution.append(file)\n",
    "                break"
   ]
  },
  {
   "cell_type": "code",
   "execution_count": null,
   "metadata": {},
   "outputs": [
    {
     "data": {
      "text/plain": [
       "{'GAS': 9494, 'VAPOR': 70, 'SOLID': 4959, 'LIQUID': 1386, 'SOLUTION': 2284}"
      ]
     },
     "metadata": {},
     "output_type": "display_data"
    }
   ],
   "source": [
    "state"
   ]
  },
  {
   "cell_type": "code",
   "execution_count": null,
   "metadata": {},
   "outputs": [],
   "source": [
    "gasDIR = './IR_gas'\n",
    "vaporDIR = './IR_vapor'\n",
    "solidDIR = './IR_solid'\n",
    "liquidDIR = './IR_liquid'\n",
    "solutionDIR = './IR_solution'"
   ]
  },
  {
   "cell_type": "code",
   "execution_count": null,
   "metadata": {},
   "outputs": [],
   "source": [
    "# 按采样状态分类到不同文件夹\n",
    "\n",
    "print('-----------GAS------------')\n",
    "if not os.path.exists(gasDIR):\n",
    "    os.makedirs(gasDIR)\n",
    "for file in gas:\n",
    "    # print(file)\n",
    "    os.rename(os.path.join(PATH, file), os.path.join(gasDIR, file))\n",
    "    \n",
    "print('-----------VAPOR------------')\n",
    "if not os.path.exists(vaporDIR):\n",
    "    os.makedirs(vaporDIR)\n",
    "for file in vapor:\n",
    "    # print(file)\n",
    "    os.rename(os.path.join(PATH, file), os.path.join(vaporDIR, file))\n",
    "\n",
    "print('-----------SOLID------------')\n",
    "if not os.path.exists(solidDIR):\n",
    "    os.makedirs(solidDIR)\n",
    "for file in solid:\n",
    "    # print(file)\n",
    "    os.rename(os.path.join(PATH, file), os.path.join(solidDIR, file))\n",
    "\n",
    "print('-----------LIQUID------------')\n",
    "if not os.path.exists(liquidDIR):\n",
    "    os.makedirs(liquidDIR)\n",
    "for file in liquid:\n",
    "    # print(file)\n",
    "    os.rename(os.path.join(PATH, file), os.path.join(liquidDIR, file))\n",
    "\n",
    "print('-----------SOLUTION------------')\n",
    "if not os.path.exists(solutionDIR):\n",
    "    os.makedirs(solutionDIR)\n",
    "for file in solution:\n",
    "    # print(file)\n",
    "    os.rename(os.path.join(PATH, file), os.path.join(solutionDIR, file))"
   ]
  },
  {
   "cell_type": "code",
   "execution_count": null,
   "metadata": {},
   "outputs": [
    {
     "data": {
      "text/plain": [
       "9494"
      ]
     },
     "metadata": {},
     "output_type": "display_data"
    }
   ],
   "source": [
    "import os\n",
    "\n",
    "# 选择气态IR做分析\n",
    "gasFiles = os.listdir(gasDIR)\n",
    "len(gasFiles)"
   ]
  },
  {
   "cell_type": "markdown",
   "metadata": {},
   "source": [
    "#### 2.3. Distinguish the XUNITS/YUNITS of the IR spectra"
   ]
  },
  {
   "cell_type": "code",
   "execution_count": null,
   "metadata": {},
   "outputs": [],
   "source": [
    "yUnits = {}\n",
    "\n",
    "for file in gasFiles:\n",
    "    with open(os.path.join(gasDIR, file), 'r') as f:\n",
    "        while True:\n",
    "            line = f.readline()\n",
    "            if line == '':\n",
    "                break\n",
    "                \n",
    "            if line[:9] == '##YUNITS=':\n",
    "                if line[9:] in yUnits.keys():\n",
    "                    yUnits[line[9:]] += 1\n",
    "                else:\n",
    "                    yUnits[line[9:]] = 1\n",
    "                break"
   ]
  },
  {
   "cell_type": "code",
   "execution_count": null,
   "metadata": {},
   "outputs": [
    {
     "data": {
      "text/plain": [
       "{'TRANSMITTANCE\\n': 221,\n",
       " 'ABSORBANCE\\n': 8273,\n",
       " '(micromol/mol)-1m-1 (base 10)\\n': 1000}"
      ]
     },
     "metadata": {},
     "output_type": "display_data"
    }
   ],
   "source": [
    "yUnits"
   ]
  },
  {
   "cell_type": "code",
   "execution_count": null,
   "metadata": {},
   "outputs": [],
   "source": [
    "xUnits = {}\n",
    "\n",
    "for file in gasFiles:\n",
    "    with open(os.path.join(gasDIR, file), 'r') as f:\n",
    "        while True:\n",
    "            line = f.readline()\n",
    "            if line == '':\n",
    "                break\n",
    "                \n",
    "            if line[:9] == '##XUNITS=':\n",
    "                if line[9:] in xUnits.keys():\n",
    "                    xUnits[line[9:]] += 1\n",
    "                else:\n",
    "                    xUnits[line[9:]] = 1\n",
    "                break"
   ]
  },
  {
   "cell_type": "code",
   "execution_count": null,
   "metadata": {},
   "outputs": [
    {
     "data": {
      "text/plain": [
       "{'1/CM\\n': 8477, 'cm-1\\n': 1000, 'MICROMETERS\\n': 17}"
      ]
     },
     "metadata": {},
     "output_type": "display_data"
    }
   ],
   "source": [
    "xUnits"
   ]
  },
  {
   "cell_type": "code",
   "execution_count": null,
   "metadata": {},
   "outputs": [],
   "source": [
    "# 找出X是波数，Y是吸光度的所有气态IR\n",
    "avai = []\n",
    "\n",
    "for file in gasFiles:\n",
    "    with open(os.path.join(gasDIR, file), 'r') as f:\n",
    "        while True:\n",
    "            line = f.readline()\n",
    "            if line == '':\n",
    "                break\n",
    "                \n",
    "            if line[:9] == '##XUNITS=':\n",
    "                if line[9:] == 'MICROMETERS\\n':\n",
    "                    break\n",
    "            \n",
    "            if line[:9] == '##YUNITS=':\n",
    "                if line[9:] == 'ABSORBANCE\\n':\n",
    "                    avai.append(file)\n",
    "                break"
   ]
  },
  {
   "cell_type": "code",
   "execution_count": null,
   "metadata": {},
   "outputs": [
    {
     "data": {
      "text/plain": [
       "8273"
      ]
     },
     "metadata": {},
     "output_type": "display_data"
    }
   ],
   "source": [
    "len(avai)"
   ]
  },
  {
   "cell_type": "code",
   "execution_count": null,
   "metadata": {},
   "outputs": [],
   "source": [
    "for file in avai:\n",
    "    os.rename(os.path.join(gasDIR, file), os.path.join(gasDIR, 'ab_' + file))"
   ]
  },
  {
   "cell_type": "code",
   "execution_count": null,
   "metadata": {},
   "outputs": [
    {
     "name": "stdout",
     "output_type": "stream",
     "text": [
      "8273\n"
     ]
    }
   ],
   "source": [
    "files = os.listdir('./IR_gas')\n",
    "\n",
    "i = 0\n",
    "\n",
    "for file in files:\n",
    "    f = file.replace('.', '_').split('_')\n",
    "    if f[0] == 'ab' and f[3] == '0':\n",
    "        i += 1\n",
    "\n",
    "print(i)  # 检查发现吸光度的IR谱都是不同化合物的，即CAS ID都不同"
   ]
  },
  {
   "cell_type": "markdown",
   "metadata": {},
   "source": [
    "### 3. Download Corresponding InChI"
   ]
  },
  {
   "cell_type": "code",
   "execution_count": 3,
   "metadata": {},
   "outputs": [],
   "source": [
    "# 获取气态吸光度IR的分子的InChI\n",
    "\n",
    "import os\n",
    "\n",
    "DIR = './IR_gas'\n",
    "files = os.listdir(DIR)"
   ]
  },
  {
   "cell_type": "code",
   "execution_count": 6,
   "metadata": {},
   "outputs": [],
   "source": [
    "import pandas as pd\n",
    "\n",
    "inchi_pd = pd.DataFrame(columns=['ID', 'InChi'])\n",
    "inchi_file = './dataset/inchi.csv'"
   ]
  },
  {
   "cell_type": "code",
   "execution_count": null,
   "metadata": {
    "scrolled": true
   },
   "outputs": [],
   "source": [
    "i = 0\n",
    "\n",
    "for file in files:\n",
    "    if file[:2] == 'ab':  # YUNITS=ABSORBANCE\n",
    "        f_id = file.split('_')[1]\n",
    "        \n",
    "        com = nist.Compound(f_id)\n",
    "        f_inchi = com.inchi\n",
    "        \n",
    "        inchi_pd.loc[i] = [f_id, f_inchi]\n",
    "        \n",
    "        i += 1"
   ]
  },
  {
   "cell_type": "code",
   "execution_count": null,
   "metadata": {},
   "outputs": [],
   "source": [
    "inchi_pd.to_csv(inchi_file, index=False)"
   ]
  }
 ],
 "metadata": {
  "kernelspec": {
   "display_name": "Python 3",
   "language": "python",
   "name": "python3"
  },
  "language_info": {
   "codemirror_mode": {
    "name": "ipython",
    "version": 3
   },
   "file_extension": ".py",
   "mimetype": "text/x-python",
   "name": "python",
   "nbconvert_exporter": "python",
   "pygments_lexer": "ipython3",
   "version": "3.6.5"
  }
 },
 "nbformat": 4,
 "nbformat_minor": 2
}
