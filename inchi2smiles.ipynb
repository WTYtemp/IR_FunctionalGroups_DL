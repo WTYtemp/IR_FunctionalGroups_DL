{
 "cells": [
  {
   "cell_type": "code",
   "execution_count": 1,
   "metadata": {},
   "outputs": [],
   "source": [
    "from rdkit import Chem\n",
    "import pandas as pd"
   ]
  },
  {
   "cell_type": "code",
   "execution_count": 8,
   "metadata": {},
   "outputs": [],
   "source": [
    "inchi_path = './inchi.csv'\n",
    "inchi_file = pd.read_csv(inchi_path)\n",
    "\n",
    "smiles_path = './smiles.csv'\n",
    "smiles_df = pd.DataFrame(columns=['ID', 'SMILES'])"
   ]
  },
  {
   "cell_type": "code",
   "execution_count": null,
   "metadata": {},
   "outputs": [],
   "source": [
    "i = 0\n",
    "for idx, items in inchi_file.iterrows():\n",
    "    inchi = items['InChi']\n",
    "    mol = Chem.MolFromInchi(inchi)\n",
    "    if(mol == None):\n",
    "        continue\n",
    "    canonical_smiles = Chem.MolToSmiles(mol)\n",
    "    \n",
    "    smiles_df.loc[i] = [items['ID'], canonical_smiles]\n",
    "    i += 1"
   ]
  },
  {
   "cell_type": "code",
   "execution_count": 10,
   "metadata": {},
   "outputs": [],
   "source": [
    "smiles_df.to_csv(smiles_path, index=False)"
   ]
  },
  {
   "cell_type": "code",
   "execution_count": 30,
   "metadata": {},
   "outputs": [
    {
     "name": "stdout",
     "output_type": "stream",
     "text": [
      "CC[N+](C)(C)Cc1ccccc1Br\n"
     ]
    },
    {
     "data": {
      "image/png": "[encoded data removed]",
      "text/plain": [
       "<rdkit.Chem.rdchem.Mol at 0x1e7767baf50>"
      ]
     },
     "execution_count": 30,
     "metadata": {},
     "output_type": "execute_result"
    }
   ],
   "source": [
    "mol = Chem.MolFromInchi('InChI=1S/C11H17BrN/c1-4-13(2,3)9-10-7-5-6-8-11(10)12/h5-8H,4,9H2,1-3H3/q+1')\n",
    "canonical_smiles = Chem.MolToSmiles(mol)\n",
    "print(canonical_smiles)\n",
    "mol"
   ]
  },
  {
   "cell_type": "markdown",
   "metadata": {},
   "source": [
    "Merge spectral data and SMILES"
   ]
  },
  {
   "cell_type": "code",
   "execution_count": 11,
   "metadata": {},
   "outputs": [
    {
     "name": "stdout",
     "output_type": "stream",
     "text": [
      "8272\n"
     ]
    },
    {
     "data": {
      "text/html": [
       "<div>\n",
       "<style scoped>\n",
       "    .dataframe tbody tr th:only-of-type {\n",
       "        vertical-align: middle;\n",
       "    }\n",
       "\n",
       "    .dataframe tbody tr th {\n",
       "        vertical-align: top;\n",
       "    }\n",
       "\n",
       "    .dataframe thead th {\n",
       "        text-align: right;\n",
       "    }\n",
       "</style>\n",
       "<table border=\"1\" class=\"dataframe\">\n",
       "  <thead>\n",
       "    <tr style=\"text-align: right;\">\n",
       "      <th></th>\n",
       "      <th>ID</th>\n",
       "      <th>552.0</th>\n",
       "      <th>554.0</th>\n",
       "      <th>556.0</th>\n",
       "      <th>558.0</th>\n",
       "      <th>560.0</th>\n",
       "      <th>562.0</th>\n",
       "      <th>564.0</th>\n",
       "      <th>566.0</th>\n",
       "      <th>568.0</th>\n",
       "      <th>...</th>\n",
       "      <th>3828.0</th>\n",
       "      <th>3830.0</th>\n",
       "      <th>3832.0</th>\n",
       "      <th>3834.0</th>\n",
       "      <th>3836.0</th>\n",
       "      <th>3838.0</th>\n",
       "      <th>3840.0</th>\n",
       "      <th>3842.0</th>\n",
       "      <th>3844.0</th>\n",
       "      <th>SMILES</th>\n",
       "    </tr>\n",
       "  </thead>\n",
       "  <tbody>\n",
       "    <tr>\n",
       "      <th>0</th>\n",
       "      <td>C100005</td>\n",
       "      <td>0.029260</td>\n",
       "      <td>0.023569</td>\n",
       "      <td>0.019171</td>\n",
       "      <td>0.015573</td>\n",
       "      <td>0.012292</td>\n",
       "      <td>0.009177</td>\n",
       "      <td>0.006424</td>\n",
       "      <td>0.005279</td>\n",
       "      <td>0.006629</td>\n",
       "      <td>...</td>\n",
       "      <td>0.005490</td>\n",
       "      <td>0.005979</td>\n",
       "      <td>0.007471</td>\n",
       "      <td>0.008777</td>\n",
       "      <td>0.008708</td>\n",
       "      <td>0.007778</td>\n",
       "      <td>0.006851</td>\n",
       "      <td>0.006479</td>\n",
       "      <td>0.006781</td>\n",
       "      <td>O=[N+]([O-])c1ccc(Cl)cc1</td>\n",
       "    </tr>\n",
       "    <tr>\n",
       "      <th>1</th>\n",
       "      <td>C100016</td>\n",
       "      <td>0.035241</td>\n",
       "      <td>0.036682</td>\n",
       "      <td>0.037450</td>\n",
       "      <td>0.038118</td>\n",
       "      <td>0.039253</td>\n",
       "      <td>0.040991</td>\n",
       "      <td>0.042732</td>\n",
       "      <td>0.044132</td>\n",
       "      <td>0.045326</td>\n",
       "      <td>...</td>\n",
       "      <td>0.004158</td>\n",
       "      <td>0.004427</td>\n",
       "      <td>0.004746</td>\n",
       "      <td>0.005077</td>\n",
       "      <td>0.005286</td>\n",
       "      <td>0.005342</td>\n",
       "      <td>0.005306</td>\n",
       "      <td>0.005308</td>\n",
       "      <td>0.005487</td>\n",
       "      <td>Nc1ccc([N+](=O)[O-])cc1</td>\n",
       "    </tr>\n",
       "    <tr>\n",
       "      <th>2</th>\n",
       "      <td>C100027</td>\n",
       "      <td>0.008138</td>\n",
       "      <td>0.006244</td>\n",
       "      <td>0.006024</td>\n",
       "      <td>0.007444</td>\n",
       "      <td>0.010127</td>\n",
       "      <td>0.012343</td>\n",
       "      <td>0.012753</td>\n",
       "      <td>0.012943</td>\n",
       "      <td>0.014619</td>\n",
       "      <td>...</td>\n",
       "      <td>0.001887</td>\n",
       "      <td>0.001744</td>\n",
       "      <td>0.002265</td>\n",
       "      <td>0.003044</td>\n",
       "      <td>0.003619</td>\n",
       "      <td>0.003944</td>\n",
       "      <td>0.004098</td>\n",
       "      <td>0.004244</td>\n",
       "      <td>0.004565</td>\n",
       "      <td>O=[N+]([O-])c1ccc(O)cc1</td>\n",
       "    </tr>\n",
       "    <tr>\n",
       "      <th>3</th>\n",
       "      <td>C100061</td>\n",
       "      <td>0.046016</td>\n",
       "      <td>0.056510</td>\n",
       "      <td>0.061454</td>\n",
       "      <td>0.065510</td>\n",
       "      <td>0.072153</td>\n",
       "      <td>0.080110</td>\n",
       "      <td>0.087405</td>\n",
       "      <td>0.094010</td>\n",
       "      <td>0.100134</td>\n",
       "      <td>...</td>\n",
       "      <td>0.001283</td>\n",
       "      <td>0.001611</td>\n",
       "      <td>0.002109</td>\n",
       "      <td>0.002711</td>\n",
       "      <td>0.003295</td>\n",
       "      <td>0.003611</td>\n",
       "      <td>0.003474</td>\n",
       "      <td>0.003111</td>\n",
       "      <td>0.002847</td>\n",
       "      <td>COc1ccc(C(C)=O)cc1</td>\n",
       "    </tr>\n",
       "    <tr>\n",
       "      <th>4</th>\n",
       "      <td>C1000868</td>\n",
       "      <td>0.036377</td>\n",
       "      <td>0.027100</td>\n",
       "      <td>0.018148</td>\n",
       "      <td>0.013700</td>\n",
       "      <td>0.016130</td>\n",
       "      <td>0.020600</td>\n",
       "      <td>0.022080</td>\n",
       "      <td>0.022000</td>\n",
       "      <td>0.022936</td>\n",
       "      <td>...</td>\n",
       "      <td>0.007910</td>\n",
       "      <td>0.008100</td>\n",
       "      <td>0.008237</td>\n",
       "      <td>0.008000</td>\n",
       "      <td>0.007206</td>\n",
       "      <td>0.006300</td>\n",
       "      <td>0.005777</td>\n",
       "      <td>0.005700</td>\n",
       "      <td>0.006023</td>\n",
       "      <td>C=C(C)C=C(C)C</td>\n",
       "    </tr>\n",
       "  </tbody>\n",
       "</table>\n",
       "<p>5 rows × 1649 columns</p>\n",
       "</div>"
      ],
      "text/plain": [
       "         ID     552.0     554.0     556.0     558.0     560.0     562.0  \\\n",
       "0   C100005  0.029260  0.023569  0.019171  0.015573  0.012292  0.009177   \n",
       "1   C100016  0.035241  0.036682  0.037450  0.038118  0.039253  0.040991   \n",
       "2   C100027  0.008138  0.006244  0.006024  0.007444  0.010127  0.012343   \n",
       "3   C100061  0.046016  0.056510  0.061454  0.065510  0.072153  0.080110   \n",
       "4  C1000868  0.036377  0.027100  0.018148  0.013700  0.016130  0.020600   \n",
       "\n",
       "      564.0     566.0     568.0  ...    3828.0    3830.0    3832.0    3834.0  \\\n",
       "0  0.006424  0.005279  0.006629  ...  0.005490  0.005979  0.007471  0.008777   \n",
       "1  0.042732  0.044132  0.045326  ...  0.004158  0.004427  0.004746  0.005077   \n",
       "2  0.012753  0.012943  0.014619  ...  0.001887  0.001744  0.002265  0.003044   \n",
       "3  0.087405  0.094010  0.100134  ...  0.001283  0.001611  0.002109  0.002711   \n",
       "4  0.022080  0.022000  0.022936  ...  0.007910  0.008100  0.008237  0.008000   \n",
       "\n",
       "     3836.0    3838.0    3840.0    3842.0    3844.0                    SMILES  \n",
       "0  0.008708  0.007778  0.006851  0.006479  0.006781  O=[N+]([O-])c1ccc(Cl)cc1  \n",
       "1  0.005286  0.005342  0.005306  0.005308  0.005487   Nc1ccc([N+](=O)[O-])cc1  \n",
       "2  0.003619  0.003944  0.004098  0.004244  0.004565   O=[N+]([O-])c1ccc(O)cc1  \n",
       "3  0.003295  0.003611  0.003474  0.003111  0.002847        COc1ccc(C(C)=O)cc1  \n",
       "4  0.007206  0.006300  0.005777  0.005700  0.006023             C=C(C)C=C(C)C  \n",
       "\n",
       "[5 rows x 1649 columns]"
      ]
     },
     "execution_count": 11,
     "metadata": {},
     "output_type": "execute_result"
    }
   ],
   "source": [
    "data_path = './dataset/normData_1647.csv'\n",
    "data_df = pd.read_csv(data_path)\n",
    "\n",
    "smiles_df = pd.read_csv(smiles_path)\n",
    "\n",
    "dataset_df = pd.merge(data_df, smiles_df, left_on='ID', right_on='ID', how='inner')\n",
    "print(len(dataset_df))\n",
    "dataset_df.head()"
   ]
  },
  {
   "cell_type": "code",
   "execution_count": 12,
   "metadata": {},
   "outputs": [],
   "source": [
    "dataset_df.to_csv('./dataset/dataset_1647_SMILES.csv', index=False)"
   ]
  }
 ],
 "metadata": {
  "kernelspec": {
   "display_name": "Python 3",
   "language": "python",
   "name": "python3"
  },
  "language_info": {
   "codemirror_mode": {
    "name": "ipython",
    "version": 3
   },
   "file_extension": ".py",
   "mimetype": "text/x-python",
   "name": "python",
   "nbconvert_exporter": "python",
   "pygments_lexer": "ipython3",
   "version": "3.6.5"
  }
 },
 "nbformat": 4,
 "nbformat_minor": 2
}
