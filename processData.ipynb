{
 "cells": [
  {
   "cell_type": "code",
   "execution_count": 1,
   "metadata": {},
   "outputs": [],
   "source": [
    "import pandas as pd\n",
    "import os\n",
    "import numpy as np\n",
    "from matplotlib import pyplot as plt\n",
    "from scipy.interpolate import interp1d"
   ]
  },
  {
   "cell_type": "code",
   "execution_count": 2,
   "metadata": {},
   "outputs": [
    {
     "data": {
      "text/plain": [
       "8273"
      ]
     },
     "execution_count": 2,
     "metadata": {},
     "output_type": "execute_result"
    }
   ],
   "source": [
    "config = './dataset/ab_IR_gas.csv'\n",
    "config_df = pd.read_csv(config)\n",
    "\n",
    "ID = []\n",
    "for idx, item in config_df.iterrows():\n",
    "    ID.append(item['ID'])\n",
    "\n",
    "len(ID)"
   ]
  },
  {
   "cell_type": "code",
   "execution_count": 3,
   "metadata": {},
   "outputs": [],
   "source": [
    "irDir = './IR_XY_gas'  # 由JDX文件转换的XY文件保存在该文件夹\n",
    "irFile = '{}_IR.csv'"
   ]
  },
  {
   "cell_type": "code",
   "execution_count": 2,
   "metadata": {},
   "outputs": [
    {
     "name": "stdout",
     "output_type": "stream",
     "text": [
      "[552.0, 554.0, 556.0, 558.0, 560.0]\n",
      "1647\n"
     ]
    }
   ],
   "source": [
    "x_new = np.linspace(552, 3844, num=1647)    # 样本点区间[552, 3844]\n",
    "x_list = x_new.tolist()\n",
    "\n",
    "print(x_list[:5])\n",
    "print(len(x_list))"
   ]
  },
  {
   "cell_type": "code",
   "execution_count": 6,
   "metadata": {},
   "outputs": [],
   "source": [
    "def normalize(x):\n",
    "    x_min = min(x)\n",
    "    x_max = max(x)\n",
    "    x_norm = []\n",
    "    \n",
    "    for data in x:\n",
    "        norm = (data - x_min) / (x_max - x_min)\n",
    "        x_norm.append(round(norm, 10))\n",
    "    \n",
    "    return x_norm"
   ]
  },
  {
   "cell_type": "code",
   "execution_count": null,
   "metadata": {
    "scrolled": true
   },
   "outputs": [],
   "source": [
    "out_df = pd.DataFrame(columns=['ID'] + x_list)\n",
    "i = 0\n",
    "\n",
    "for item in ID:\n",
    "    path = os.path.join(irDir, irFile.format(item))\n",
    "    x_old = []\n",
    "    y_old = []\n",
    "    \n",
    "    with open(path, 'r') as f:\n",
    "        lines = f.readlines()\n",
    "        \n",
    "    for line in lines:\n",
    "        x_old.append(float(line.split()[0]))\n",
    "        y_old.append(float(line.split()[1]))\n",
    "\n",
    "    \n",
    "    # 插值采样\n",
    "    func = interp1d(x_old, y_old, kind='cubic')\n",
    "    y_new = func(x_new)\n",
    "    \n",
    "    # 最大最小标准化到[0, 1]\n",
    "    y_new = normalize(y_new.tolist())\n",
    "\n",
    "    out_df.loc[i] = [item] + y_new\n",
    "    \n",
    "    #plt.figure()\n",
    "    #plt.plot(x_old, y_old, 'bo')\n",
    "    #plt.plot(x_new, y_new, '-rx', label='fitting')\n",
    "    #plt.legend()\n",
    "    #plt.show()\n",
    "    \n",
    "    i += 1\n",
    "    "
   ]
  },
  {
   "cell_type": "code",
   "execution_count": 17,
   "metadata": {},
   "outputs": [],
   "source": [
    "out_df.to_csv('./dataset/normData_1647.csv', index=False)"
   ]
  }
 ],
 "metadata": {
  "kernelspec": {
   "display_name": "Python 3",
   "language": "python",
   "name": "python3"
  },
  "language_info": {
   "codemirror_mode": {
    "name": "ipython",
    "version": 3
   },
   "file_extension": ".py",
   "mimetype": "text/x-python",
   "name": "python",
   "nbconvert_exporter": "python",
   "pygments_lexer": "ipython3",
   "version": "3.6.5"
  }
 },
 "nbformat": 4,
 "nbformat_minor": 2
}
