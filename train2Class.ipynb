{
 "cells": [
  {
   "cell_type": "code",
   "execution_count": 1,
   "id": "65ee6972",
   "metadata": {},
   "outputs": [],
   "source": [
    "# -*- coding: utf-8 -*-\n",
    "\n",
    "import warnings\n",
    "warnings.filterwarnings(\"ignore\")\n",
    "\n",
    "import pandas as pd\n",
    "import numpy as np\n",
    "\n",
    "from sklearn.model_selection import KFold, StratifiedKFold\n",
    "from sklearn.metrics import confusion_matrix, precision_recall_curve, roc_auc_score\n",
    "from sklearn.metrics import auc as calculate_auc\n",
    "\n",
    "import matplotlib.pyplot as plt\n",
    "import seaborn as sns\n",
    "\n",
    "from aggmap import AggMap, AggMapNet, loadmap\n",
    "\n",
    "np.random.seed(666)\n",
    "\n",
    "def prc_auc_score (y_true, y_score):\n",
    "    precision, recall, threshold = precision_recall_curve(y_true, y_score) # PRC_AUC\n",
    "    auc = calculate_auc(recall, precision)\n",
    "    return auc"
   ]
  },
  {
   "cell_type": "code",
   "execution_count": 3,
   "id": "dfcf5d79",
   "metadata": {},
   "outputs": [
    {
     "name": "stdout",
     "output_type": "stream",
     "text": [
      "physical_gpus:\n",
      "[PhysicalDevice(name='/physical_device:GPU:0', device_type='GPU')]\n"
     ]
    },
    {
     "name": "stderr",
     "output_type": "stream",
     "text": [
      "2022-12-21 15:40:41.881554: I tensorflow/stream_executor/platform/default/dso_loader.cc:53] Successfully opened dynamic library libcuda.so.1\n",
      "2022-12-21 15:40:41.968865: I tensorflow/core/common_runtime/gpu/gpu_device.cc:1733] Found device 0 with properties: \n",
      "pciBusID: 0000:07:00.0 name: Tesla V100-SXM2-32GB computeCapability: 7.0\n",
      "coreClock: 1.53GHz coreCount: 80 deviceMemorySize: 31.75GiB deviceMemoryBandwidth: 836.37GiB/s\n",
      "2022-12-21 15:40:41.968921: I tensorflow/stream_executor/platform/default/dso_loader.cc:53] Successfully opened dynamic library libcudart.so.11.0\n",
      "2022-12-21 15:40:41.973365: I tensorflow/stream_executor/platform/default/dso_loader.cc:53] Successfully opened dynamic library libcublas.so.11\n",
      "2022-12-21 15:40:41.973441: I tensorflow/stream_executor/platform/default/dso_loader.cc:53] Successfully opened dynamic library libcublasLt.so.11\n",
      "2022-12-21 15:40:41.974887: I tensorflow/stream_executor/platform/default/dso_loader.cc:53] Successfully opened dynamic library libcufft.so.10\n",
      "2022-12-21 15:40:41.975240: I tensorflow/stream_executor/platform/default/dso_loader.cc:53] Successfully opened dynamic library libcurand.so.10\n",
      "2022-12-21 15:40:41.976609: I tensorflow/stream_executor/platform/default/dso_loader.cc:53] Successfully opened dynamic library libcusolver.so.11\n",
      "2022-12-21 15:40:41.977752: I tensorflow/stream_executor/platform/default/dso_loader.cc:53] Successfully opened dynamic library libcusparse.so.11\n",
      "2022-12-21 15:40:41.977963: I tensorflow/stream_executor/platform/default/dso_loader.cc:53] Successfully opened dynamic library libcudnn.so.8\n",
      "2022-12-21 15:40:41.983828: I tensorflow/core/common_runtime/gpu/gpu_device.cc:1871] Adding visible gpu devices: 0\n"
     ]
    }
   ],
   "source": [
    "import tensorflow as tf\n",
    "import os\n",
    "\n",
    "os.environ[\"CUDA_VISIBLE_DEVICES\"] = \"1\"\n",
    "physical_gpus = tf.config.experimental.list_physical_devices('GPU') \n",
    "print(\"physical_gpus:\")\n",
    "print(physical_gpus)\n",
    "tf.config.experimental.set_memory_growth(physical_gpus[0], True)"
   ]
  },
  {
   "cell_type": "code",
   "execution_count": 2,
   "id": "8f6ed5bd",
   "metadata": {},
   "outputs": [],
   "source": [
    "dataset = './dataset/dataset_1647_all.csv'\n",
    "data_df = pd.read_csv(dataset)\n",
    "dfx = data_df[data_df.columns[1:-42]]\n",
    "dfy = data_df[data_df.columns[-42:]]   # 取列用list，得到的对象才是DataFrame"
   ]
  },
  {
   "cell_type": "code",
   "execution_count": 3,
   "id": "77a82af7",
   "metadata": {},
   "outputs": [
    {
     "name": "stdout",
     "output_type": "stream",
     "text": [
      "(8272, 1647)\n",
      "(8272, 42)\n"
     ]
    }
   ],
   "source": [
    "print(dfx.shape)\n",
    "print(dfy.shape)"
   ]
  },
  {
   "cell_type": "code",
   "execution_count": 7,
   "id": "221c4060",
   "metadata": {},
   "outputs": [],
   "source": [
    "# alkane, methyl, alkene, alkyne, alcohols, \n",
    "# amines, nitriles, aromatics, alkyl halides, esters, \n",
    "# ketones, aldehydes, carboxylic acids, ether, acyl halides, amides, nitro\n",
    "\n",
    "func_grp = '-N=C=O'\n",
    "X = dfx.values\n",
    "Y = pd.get_dummies(dfy[func_grp]).values.astype(float)"
   ]
  },
  {
   "cell_type": "code",
   "execution_count": 8,
   "id": "cfdbedfe",
   "metadata": {},
   "outputs": [],
   "source": [
    "channels = 10\n",
    "#mp = AggMap(dfx, metric='correlation')\n",
    "#mp.fit(cluster_channels=channels, verbose=0)\n",
    "#mp.save('./model/1647_IR_aggmap_correlation_c{}.mp'.format(channels))\n",
    "mp = loadmap('./model/1647_IR_aggmap_correlation_c{}.mp'.format(channels))"
   ]
  },
  {
   "cell_type": "code",
   "execution_count": 10,
   "id": "8ae149df",
   "metadata": {
    "scrolled": true
   },
   "outputs": [
    {
     "name": "stderr",
     "output_type": "stream",
     "text": [
      "100%|###########################################################################################| 6618/6618 [01:20<00:00, 82.03it/s]\n",
      "100%|###########################################################################################| 1655/1655 [00:25<00:00, 64.36it/s]\n"
     ]
    },
    {
     "name": "stdout",
     "output_type": "stream",
     "text": [
      "trainX shape is: (6618, 41, 41, 10)\n",
      "testX shape is: (1655, 41, 41, 10)\n",
      "MultiClassEstimator(batch_norm=False, batch_size=4, conv1_kernel_size=13,\n",
      "                    dense_avf='relu', dense_layers=[256, 128], dropout=0.5,\n",
      "                    epochs=100, gpuid='0', last_avf='softmax',\n",
      "                    loss='categorical_crossentropy', lr=0.0001, metric='ACC',\n",
      "                    monitor='val_loss', n_inception=2,\n",
      "                    name='AggMap MultiClass Estimator', patience=10000,\n",
      "                    random_state=32, verbose=0)\n"
     ]
    },
    {
     "name": "stderr",
     "output_type": "stream",
     "text": [
      "100%|###########################################################################################| 6618/6618 [03:35<00:00, 30.66it/s]\n",
      "100%|##########################################################################################| 1655/1655 [00:13<00:00, 123.82it/s]\n"
     ]
    },
    {
     "name": "stdout",
     "output_type": "stream",
     "text": [
      "trainX shape is: (6618, 41, 41, 10)\n",
      "testX shape is: (1655, 41, 41, 10)\n",
      "MultiClassEstimator(batch_norm=False, batch_size=4, conv1_kernel_size=13,\n",
      "                    dense_avf='relu', dense_layers=[256, 128], dropout=0.5,\n",
      "                    epochs=100, gpuid='0', last_avf='softmax',\n",
      "                    loss='categorical_crossentropy', lr=0.0001, metric='ACC',\n",
      "                    monitor='val_loss', n_inception=2,\n",
      "                    name='AggMap MultiClass Estimator', patience=10000,\n",
      "                    random_state=32, verbose=0)\n"
     ]
    },
    {
     "name": "stderr",
     "output_type": "stream",
     "text": [
      "100%|###########################################################################################| 6618/6618 [03:19<00:00, 33.24it/s]\n",
      "100%|##########################################################################################| 1655/1655 [00:12<00:00, 134.19it/s]\n"
     ]
    },
    {
     "name": "stdout",
     "output_type": "stream",
     "text": [
      "trainX shape is: (6618, 41, 41, 10)\n",
      "testX shape is: (1655, 41, 41, 10)\n",
      "MultiClassEstimator(batch_norm=False, batch_size=4, conv1_kernel_size=13,\n",
      "                    dense_avf='relu', dense_layers=[256, 128], dropout=0.5,\n",
      "                    epochs=100, gpuid='0', last_avf='softmax',\n",
      "                    loss='categorical_crossentropy', lr=0.0001, metric='ACC',\n",
      "                    monitor='val_loss', n_inception=2,\n",
      "                    name='AggMap MultiClass Estimator', patience=10000,\n",
      "                    random_state=32, verbose=0)\n"
     ]
    }
   ],
   "source": [
    "results = []\n",
    "results_num = []\n",
    "\n",
    "for random_seed in [8, 32, 128]:   # 随机种子用于划分数据集\n",
    "    outer = StratifiedKFold(n_splits=5, shuffle=True, random_state=random_seed)\n",
    "    fold_idx = 0\n",
    "    \n",
    "    for train_idx, test_idx in outer.split(X, Y[:, 1]): # X是数据，Y是一维标签，X和Y的数量要一致\n",
    "        train_X, test_X = X[train_idx], X[test_idx]\n",
    "        trainY, testY = Y[train_idx], Y[test_idx]\n",
    "        \n",
    "        trainX = mp.batch_transform(train_X, scale_method='standard')\n",
    "        testX = mp.batch_transform(test_X, scale_method='standard')\n",
    "        print(\"trainX shape is: \" + str(trainX.shape))\n",
    "        print(\"testX shape is: \" + str(testX.shape))\n",
    "        \n",
    "        clf = AggMapNet.MultiClassEstimator(epochs=80, batch_size=4, dense_layers=[256, 128], dropout=0.5)\n",
    "        clf.fit(trainX, trainY)\n",
    "        \n",
    "        y_true = testY[:, 1] # 标签与outer.split一致\n",
    "        y_pred = clf.predict(testX)\n",
    "        y_score = clf.predict_proba(testX)[:, 1]\n",
    "        \n",
    "        tn, fp, fn, tp = confusion_matrix(y_true, y_pred).ravel()\n",
    "        \n",
    "        acc = (tp + tn) / sum([tn, fp, fn, tp])\n",
    "        sensitivity = tp / sum([tp, fn])\n",
    "        specificity = tn / sum([tn, fp])\n",
    "        \n",
    "        prc_auc = prc_auc_score(y_true, y_score)\n",
    "        roc_auc = roc_auc_score(y_true, y_score)\n",
    "        \n",
    "        precision = tp / sum([tp, fp])\n",
    "        recall = sensitivity\n",
    "        F1 = 2 * precision * sensitivity / (precision + sensitivity)\n",
    "        \n",
    "        # res 记录结果用来画图\n",
    "        res = clf.history   # dictionary\n",
    "        res['fold'] = fold_idx\n",
    "        res['channel'] = channels\n",
    "        res['random_seed'] = random_seed\n",
    "        \n",
    "        # res_num 记录结果用来看数值\n",
    "        fold_num = \"fold_%s\" % str(fold_idx).zfill(2)\n",
    "        res_num = {'fold': fold_num,\n",
    "              'random_seed': random_seed,\n",
    "              'accuracy': acc,\n",
    "              'prc_auc': prc_auc,\n",
    "              'roc_auc': roc_auc,\n",
    "              'sensitivity': sensitivity,\n",
    "              'specificity': specificity,\n",
    "              'precision': precision,\n",
    "              'recall': recall,\n",
    "              'F1': F1}\n",
    "        \n",
    "        results.append(res)\n",
    "        results_num.append(res_num)\n",
    "        fold_idx += 1\n",
    "        break\n",
    "        "
   ]
  },
  {
   "cell_type": "code",
   "execution_count": null,
   "id": "27a517ab",
   "metadata": {},
   "outputs": [
    {
     "data": {
      "text/plain": [
       "array([[1623,    0],\n",
       "       [  32,    0]])"
      ]
     },
     "execution_count": 76,
     "metadata": {},
     "output_type": "execute_result"
    }
   ],
   "source": [
    "confusion_matrix(y_true, y_pred)"
   ]
  },
  {
   "cell_type": "code",
   "execution_count": 11,
   "id": "2272ae2c",
   "metadata": {},
   "outputs": [
    {
     "data": {
      "text/html": [
       "<div>\n",
       "<style scoped>\n",
       "    .dataframe tbody tr th:only-of-type {\n",
       "        vertical-align: middle;\n",
       "    }\n",
       "\n",
       "    .dataframe tbody tr th {\n",
       "        vertical-align: top;\n",
       "    }\n",
       "\n",
       "    .dataframe thead th {\n",
       "        text-align: right;\n",
       "    }\n",
       "</style>\n",
       "<table border=\"1\" class=\"dataframe\">\n",
       "  <thead>\n",
       "    <tr style=\"text-align: right;\">\n",
       "      <th></th>\n",
       "      <th>loss</th>\n",
       "      <th>val_loss</th>\n",
       "      <th>accuracy</th>\n",
       "      <th>val_accuracy</th>\n",
       "      <th>epoch</th>\n",
       "      <th>fold</th>\n",
       "      <th>channel</th>\n",
       "      <th>random_seed</th>\n",
       "    </tr>\n",
       "  </thead>\n",
       "  <tbody>\n",
       "    <tr>\n",
       "      <th>0</th>\n",
       "      <td>[0.0998278558254242, 0.06594415009021759, 0.05...</td>\n",
       "      <td>[0.06462551653385162, 0.046985846012830734, 0....</td>\n",
       "      <td>[0.9808099123602296, 0.9808099123602296, 0.981...</td>\n",
       "      <td>[0.9808099123602296, 0.9808099123602296, 0.981...</td>\n",
       "      <td>[0, 1, 2, 3, 4, 5, 6, 7, 8, 9, 10, 11, 12, 13,...</td>\n",
       "      <td>0</td>\n",
       "      <td>10</td>\n",
       "      <td>8</td>\n",
       "    </tr>\n",
       "    <tr>\n",
       "      <th>1</th>\n",
       "      <td>[0.09570292383432388, 0.07024102658033371, 0.0...</td>\n",
       "      <td>[0.06960955262184143, 0.053625769913196564, 0....</td>\n",
       "      <td>[0.9808099123602296, 0.9844363856149895, 0.982...</td>\n",
       "      <td>[0.9808099123602296, 0.9844363856149895, 0.982...</td>\n",
       "      <td>[0, 1, 2, 3, 4, 5, 6, 7, 8, 9, 10, 11, 12, 13,...</td>\n",
       "      <td>0</td>\n",
       "      <td>10</td>\n",
       "      <td>32</td>\n",
       "    </tr>\n",
       "    <tr>\n",
       "      <th>2</th>\n",
       "      <td>[0.09368641674518585, 0.07208102196455002, 0.0...</td>\n",
       "      <td>[0.0641154795885086, 0.05312687158584595, 0.04...</td>\n",
       "      <td>[0.9808099123602296, 0.9808099123602296, 0.981...</td>\n",
       "      <td>[0.9808099123602296, 0.9808099123602296, 0.981...</td>\n",
       "      <td>[0, 1, 2, 3, 4, 5, 6, 7, 8, 9, 10, 11, 12, 13,...</td>\n",
       "      <td>0</td>\n",
       "      <td>10</td>\n",
       "      <td>128</td>\n",
       "    </tr>\n",
       "  </tbody>\n",
       "</table>\n",
       "</div>"
      ],
      "text/plain": [
       "                                                loss  \\\n",
       "0  [0.0998278558254242, 0.06594415009021759, 0.05...   \n",
       "1  [0.09570292383432388, 0.07024102658033371, 0.0...   \n",
       "2  [0.09368641674518585, 0.07208102196455002, 0.0...   \n",
       "\n",
       "                                            val_loss  \\\n",
       "0  [0.06462551653385162, 0.046985846012830734, 0....   \n",
       "1  [0.06960955262184143, 0.053625769913196564, 0....   \n",
       "2  [0.0641154795885086, 0.05312687158584595, 0.04...   \n",
       "\n",
       "                                            accuracy  \\\n",
       "0  [0.9808099123602296, 0.9808099123602296, 0.981...   \n",
       "1  [0.9808099123602296, 0.9844363856149895, 0.982...   \n",
       "2  [0.9808099123602296, 0.9808099123602296, 0.981...   \n",
       "\n",
       "                                        val_accuracy  \\\n",
       "0  [0.9808099123602296, 0.9808099123602296, 0.981...   \n",
       "1  [0.9808099123602296, 0.9844363856149895, 0.982...   \n",
       "2  [0.9808099123602296, 0.9808099123602296, 0.981...   \n",
       "\n",
       "                                               epoch  fold  channel  \\\n",
       "0  [0, 1, 2, 3, 4, 5, 6, 7, 8, 9, 10, 11, 12, 13,...     0       10   \n",
       "1  [0, 1, 2, 3, 4, 5, 6, 7, 8, 9, 10, 11, 12, 13,...     0       10   \n",
       "2  [0, 1, 2, 3, 4, 5, 6, 7, 8, 9, 10, 11, 12, 13,...     0       10   \n",
       "\n",
       "   random_seed  \n",
       "0            8  \n",
       "1           32  \n",
       "2          128  "
      ]
     },
     "execution_count": 11,
     "metadata": {},
     "output_type": "execute_result"
    }
   ],
   "source": [
    "res_df = pd.DataFrame(results)\n",
    "# res_df.to_csv('./result/2Class_1647_{}_valid.csv'.format(func_grp))\n",
    "res_df"
   ]
  },
  {
   "cell_type": "code",
   "execution_count": 12,
   "id": "127de5d4",
   "metadata": {},
   "outputs": [
    {
     "data": {
      "text/html": [
       "<div>\n",
       "<style scoped>\n",
       "    .dataframe tbody tr th:only-of-type {\n",
       "        vertical-align: middle;\n",
       "    }\n",
       "\n",
       "    .dataframe tbody tr th {\n",
       "        vertical-align: top;\n",
       "    }\n",
       "\n",
       "    .dataframe thead th {\n",
       "        text-align: right;\n",
       "    }\n",
       "</style>\n",
       "<table border=\"1\" class=\"dataframe\">\n",
       "  <thead>\n",
       "    <tr style=\"text-align: right;\">\n",
       "      <th></th>\n",
       "      <th>fold</th>\n",
       "      <th>random_seed</th>\n",
       "      <th>accuracy</th>\n",
       "      <th>prc_auc</th>\n",
       "      <th>roc_auc</th>\n",
       "      <th>sensitivity</th>\n",
       "      <th>specificity</th>\n",
       "      <th>precision</th>\n",
       "      <th>recall</th>\n",
       "      <th>F1</th>\n",
       "    </tr>\n",
       "  </thead>\n",
       "  <tbody>\n",
       "    <tr>\n",
       "      <th>0</th>\n",
       "      <td>fold_00</td>\n",
       "      <td>8</td>\n",
       "      <td>0.989124</td>\n",
       "      <td>0.712141</td>\n",
       "      <td>0.965881</td>\n",
       "      <td>0.65625</td>\n",
       "      <td>0.995687</td>\n",
       "      <td>0.750000</td>\n",
       "      <td>0.65625</td>\n",
       "      <td>0.700000</td>\n",
       "    </tr>\n",
       "    <tr>\n",
       "      <th>1</th>\n",
       "      <td>fold_00</td>\n",
       "      <td>32</td>\n",
       "      <td>0.987915</td>\n",
       "      <td>0.693537</td>\n",
       "      <td>0.964042</td>\n",
       "      <td>0.59375</td>\n",
       "      <td>0.995687</td>\n",
       "      <td>0.730769</td>\n",
       "      <td>0.59375</td>\n",
       "      <td>0.655172</td>\n",
       "    </tr>\n",
       "    <tr>\n",
       "      <th>2</th>\n",
       "      <td>fold_00</td>\n",
       "      <td>128</td>\n",
       "      <td>0.987311</td>\n",
       "      <td>0.790377</td>\n",
       "      <td>0.984731</td>\n",
       "      <td>0.59375</td>\n",
       "      <td>0.995071</td>\n",
       "      <td>0.703704</td>\n",
       "      <td>0.59375</td>\n",
       "      <td>0.644068</td>\n",
       "    </tr>\n",
       "  </tbody>\n",
       "</table>\n",
       "</div>"
      ],
      "text/plain": [
       "      fold  random_seed  accuracy   prc_auc   roc_auc  sensitivity  \\\n",
       "0  fold_00            8  0.989124  0.712141  0.965881      0.65625   \n",
       "1  fold_00           32  0.987915  0.693537  0.964042      0.59375   \n",
       "2  fold_00          128  0.987311  0.790377  0.984731      0.59375   \n",
       "\n",
       "   specificity  precision   recall        F1  \n",
       "0     0.995687   0.750000  0.65625  0.700000  \n",
       "1     0.995687   0.730769  0.59375  0.655172  \n",
       "2     0.995071   0.703704  0.59375  0.644068  "
      ]
     },
     "execution_count": 12,
     "metadata": {},
     "output_type": "execute_result"
    }
   ],
   "source": [
    "res_num_df = pd.DataFrame(results_num)\n",
    "# res_num_df.to_csv('./result/2Class_1647_{}_test.csv'.format(func_grp))\n",
    "res_num_df"
   ]
  },
  {
   "cell_type": "code",
   "execution_count": 14,
   "id": "8816482e",
   "metadata": {},
   "outputs": [
    {
     "data": {
      "image/png": "[encoded data removed]",
      "text/plain": [
       "<Figure size 432x72 with 1 Axes>"
      ]
     },
     "metadata": {
      "needs_background": "light"
     },
     "output_type": "display_data"
    }
   ],
   "source": [
    "color = sns.color_palette(\"rainbow_r\", 6) #PiYG\n",
    "sns.palplot(color)"
   ]
  },
  {
   "cell_type": "code",
   "execution_count": 15,
   "id": "eae15c3d",
   "metadata": {},
   "outputs": [
    {
     "data": {
      "image/png": "[encoded data removed]",
      "text/plain": [
       "<Figure size 1296x432 with 2 Axes>"
      ]
     },
     "metadata": {},
     "output_type": "display_data"
    }
   ],
   "source": [
    "sns.set(style = 'white', font_scale=1.8)\n",
    "\n",
    "fig, axes = plt.subplots(nrows=1, ncols=2, figsize=(18,6), sharex=False, sharey=False)\n",
    "ax1, ax2 = axes        \n",
    "\n",
    "\n",
    "col = 'val_loss'\n",
    "loss_mean = res_df.groupby(['channel']).agg({col: lambda x:x.tolist()})[col].apply(lambda x: np.array(x).mean(axis=0)).apply(pd.Series).T\n",
    "loss_std = res_df.groupby(['channel']).agg({col: lambda x:x.tolist()})[col].apply(lambda x: np.array(x).std(axis=0)).apply(pd.Series).T\n",
    "\n",
    "loss_mean.columns.name = 'Channels'\n",
    "loss_std.columns.name = 'Channels'\n",
    "\n",
    "loss_mean.plot(ax=ax1, lw=3, color=color)\n",
    "ax1.set_ylabel('Validation loss')\n",
    "ax1.set_xlabel('Epochs')\n",
    "\n",
    "col = 'val_accuracy'\n",
    "acc_mean = res_df.groupby(['channel']).agg({col: lambda x:x.tolist()})[col].apply(lambda x: np.array(x).mean(axis=0)).apply(pd.Series).T\n",
    "acc_std = res_df.groupby(['channel']).agg({col: lambda x:x.tolist()})[col].apply(lambda x: np.array(x).std(axis=0)).apply(pd.Series).T\n",
    "\n",
    "\n",
    "acc_mean.columns.name = 'Channels'\n",
    "acc_std.columns.name = 'Channels'\n",
    "\n",
    "acc_mean.plot(ax=ax2, lw=3, color=color)\n",
    "ax2.set_ylabel('Validation accuracy')\n",
    "ax2.set_xlabel('Epochs')\n",
    "\n",
    "fig.tight_layout()\n",
    "plt.subplots_adjust(left=None, bottom=None, right=None, top=None, wspace=0.3)\n",
    "# plt.savefig('./result/450_%s_5FCV_correlation_valid.png' % func_grp, bbox_inches='tight', dpi=400)"
   ]
  },
  {
   "cell_type": "code",
   "execution_count": null,
   "id": "8ed32912",
   "metadata": {},
   "outputs": [],
   "source": [
    "res_num_df.groupby('random_seed').apply(np.mean).mean().round(3)  # 均值"
   ]
  },
  {
   "cell_type": "code",
   "execution_count": null,
   "id": "15fb8c73",
   "metadata": {},
   "outputs": [],
   "source": [
    "res_num_df.groupby('random_seed').apply(np.std).mean().round(3)  # 标准差"
   ]
  }
 ],
 "metadata": {
  "kernelspec": {
   "display_name": "base",
   "language": "python",
   "name": "python3"
  },
  "language_info": {
   "codemirror_mode": {
    "name": "ipython",
    "version": 3
   },
   "file_extension": ".py",
   "mimetype": "text/x-python",
   "name": "python",
   "nbconvert_exporter": "python",
   "pygments_lexer": "ipython3",
   "version": "3.6.5"
  }
 },
 "nbformat": 4,
 "nbformat_minor": 5
}
